{
 "metadata": {
  "name": "",
  "signature": "sha256:37588b9f9af778c52fc077516b3049873e97d4117cbd5e5e5f7caf627e6484d8"
 },
 "nbformat": 3,
 "nbformat_minor": 0,
 "worksheets": [
  {
   "cells": [
    {
     "cell_type": "heading",
     "level": 4,
     "metadata": {},
     "source": [
      "Lifestage is the beetle's lifestage:\n",
      "(1) = egg\n",
      "(2) = larvae\n",
      "(3) = adult\n",
      "(4) = dormant\n",
      "\n",
      "Treetype is the type of tree:\n",
      "(1) = non-ash tree \n",
      "(2) = ash tree"
     ]
    },
    {
     "cell_type": "code",
     "collapsed": false,
     "input": [
      "class EABModel (object):\n",
      "    \"\"\"\n",
      "    Model Class.\n",
      "    \"\"\"\n",
      "    def __init(self,\n",
      "               initial_beetles = 1,\n",
      "               lifestage = 3\n",
      "               tree_population = 40,\n",
      "               ash_prop = 0.2,\n",
      "               initial_treetype = 1,\n",
      "               initial_tree_diam = 35,\n",
      "               grid_size = 55,\n",
      "               tree_health = 0.9,\n",
      "               impervious = 0.6,\n",
      "               ):\n",
      "        self.initial_beetles = initial_beetles\n",
      "        self.lifestage = initial_lifestage\n",
      "        self.tree_population = tree_population\n",
      "        self.initial_treetype = initial_treetype\n",
      "        self.initial_tree_diam = initial_tree_diam\n",
      "        self.grid_size = grid_size\n",
      "        self.tree_health = tree_health\n",
      "        self.impervious = impervious\n",
      "        \n",
      "        self.agent_list = []\n",
      "        \n",
      "        self.create_agents()\n",
      "        \n",
      "    def create_beetles(self):\n",
      "        \"\"\"\n",
      "        create the agents for the model\n",
      "        \"\"\"\n",
      "    \n",
      "    for beetle_id in range(self.initial_beetles):\n",
      "        self.agent_list.append(Beetle(self, beetle_id,\n",
      "                                       self.lifestage))\n",
      "    for tree_id in range(self.initial_ashtrees + self.initial_tree):\n",
      "        agent_id = self.initial_beetles + tree_id\n",
      "        self.agent_list.append(self, agent_id,\n",
      "                               self.initial_treetype,\n",
      "                               self.initial_tree_diam,\n",
      "                               self.tree_health)\n",
      "        "
     ],
     "language": "python",
     "metadata": {},
     "outputs": []
    }
   ],
   "metadata": {}
  }
 ]
}