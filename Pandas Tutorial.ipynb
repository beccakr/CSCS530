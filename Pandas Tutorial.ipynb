{
 "metadata": {
  "name": "",
  "signature": "sha256:8027b2810ad49bb6db545213a60e5464fce070cb182ca26cefcc2ada840459fb"
 },
 "nbformat": 3,
 "nbformat_minor": 0,
 "worksheets": [
  {
   "cells": [
    {
     "cell_type": "markdown",
     "metadata": {},
     "source": [
      "# Pandas Tutorial\n",
      "\n",
      "## TERMINOLOGY\n",
      "* Uses DATA FRAMES (a way to represent tabular data). \n",
      "* SERIES: A single column in a data frame. They have types in Pandas.\n",
      "  To initialize a series, you can pass the series constructor a list.\n",
      "* INDEX: A single row in a data frame.\n",
      "\n"
     ]
    },
    {
     "cell_type": "code",
     "collapsed": false,
     "input": [
      "# import everything\n",
      "import pandas as pd\n",
      "import numpy as np\n",
      "\n",
      "series = pd.Series ([1,2,5,np.nan,6,8])\n",
      "series"
     ],
     "language": "python",
     "metadata": {},
     "outputs": [
      {
       "metadata": {},
       "output_type": "pyout",
       "prompt_number": 9,
       "text": [
        "0     1\n",
        "1     2\n",
        "2     5\n",
        "3   NaN\n",
        "4     6\n",
        "5     8\n",
        "dtype: float64"
       ]
      }
     ],
     "prompt_number": 9
    },
    {
     "cell_type": "markdown",
     "metadata": {},
     "source": [
      "dtype is the type of data stored in the series. Here, we're using 64 bit floats. We can hard-code a different dtype using the argument dtype = np.int (this argument would cause the series to be integers. \n",
      "\n"
     ]
    },
    {
     "cell_type": "code",
     "collapsed": false,
     "input": [
      "A = np.random.randn(0,4)\n",
      "A"
     ],
     "language": "python",
     "metadata": {},
     "outputs": [
      {
       "metadata": {},
       "output_type": "pyout",
       "prompt_number": 10,
       "text": [
        "array([], shape=(0, 4), dtype=float64)"
       ]
      }
     ],
     "prompt_number": 10
    },
    {
     "cell_type": "markdown",
     "metadata": {},
     "source": [
      "We turn this into a dataframe and name the headings, which will be exported should you choose to export data to a .csv file. "
     ]
    },
    {
     "cell_type": "code",
     "collapsed": false,
     "input": [
      "df = pd.DataFrame(np.random.randn(6,4),columns=list('ABCD'))\n",
      "df\n"
     ],
     "language": "python",
     "metadata": {},
     "outputs": [
      {
       "html": [
        "<div style=\"max-height:1000px;max-width:1500px;overflow:auto;\">\n",
        "<table border=\"1\" class=\"dataframe\">\n",
        "  <thead>\n",
        "    <tr style=\"text-align: right;\">\n",
        "      <th></th>\n",
        "      <th>A</th>\n",
        "      <th>B</th>\n",
        "      <th>C</th>\n",
        "      <th>D</th>\n",
        "    </tr>\n",
        "  </thead>\n",
        "  <tbody>\n",
        "    <tr>\n",
        "      <th>0</th>\n",
        "      <td> 0.497477</td>\n",
        "      <td>-1.982061</td>\n",
        "      <td>-0.177886</td>\n",
        "      <td> 0.593254</td>\n",
        "    </tr>\n",
        "    <tr>\n",
        "      <th>1</th>\n",
        "      <td> 2.003454</td>\n",
        "      <td> 0.302302</td>\n",
        "      <td>-0.772012</td>\n",
        "      <td> 0.555238</td>\n",
        "    </tr>\n",
        "    <tr>\n",
        "      <th>2</th>\n",
        "      <td>-0.386931</td>\n",
        "      <td> 1.338669</td>\n",
        "      <td> 0.967336</td>\n",
        "      <td>-0.639111</td>\n",
        "    </tr>\n",
        "    <tr>\n",
        "      <th>3</th>\n",
        "      <td>-0.132518</td>\n",
        "      <td> 0.234606</td>\n",
        "      <td>-2.031813</td>\n",
        "      <td>-0.047817</td>\n",
        "    </tr>\n",
        "    <tr>\n",
        "      <th>4</th>\n",
        "      <td> 0.929302</td>\n",
        "      <td>-0.872992</td>\n",
        "      <td> 1.413675</td>\n",
        "      <td> 0.680182</td>\n",
        "    </tr>\n",
        "    <tr>\n",
        "      <th>5</th>\n",
        "      <td>-0.161734</td>\n",
        "      <td> 2.100531</td>\n",
        "      <td> 0.424952</td>\n",
        "      <td> 0.399375</td>\n",
        "    </tr>\n",
        "  </tbody>\n",
        "</table>\n",
        "</div>"
       ],
       "metadata": {},
       "output_type": "pyout",
       "prompt_number": 14,
       "text": [
        "          A         B         C         D\n",
        "0  0.497477 -1.982061 -0.177886  0.593254\n",
        "1  2.003454  0.302302 -0.772012  0.555238\n",
        "2 -0.386931  1.338669  0.967336 -0.639111\n",
        "3 -0.132518  0.234606 -2.031813 -0.047817\n",
        "4  0.929302 -0.872992  1.413675  0.680182\n",
        "5 -0.161734  2.100531  0.424952  0.399375"
       ]
      }
     ],
     "prompt_number": 14
    },
    {
     "cell_type": "markdown",
     "metadata": {},
     "source": [
      "Pandas has special tools for categorical variables - this takes up a lot of room to save the same string over and over again. This tool will save you the work of encoding the number codes yourself and save you processing time, but when you look at the files, the actual word values will appear, making it easy to view/comprehend your data. Basically, the best of both worlds! use **pd.Categorical**\n",
      "\n",
      "You can turn many different objects into data frames:\n",
      "* Dictionaries\n",
      "* Series\n",
      "* Arrays\n",
      "* Categorical Variables\n",
      "* Time Stamps "
     ]
    },
    {
     "cell_type": "code",
     "collapsed": false,
     "input": [
      "df2 = pd.DataFrame({ 'A' : 1.,\n",
      "   ....:                      'B' : pd.Timestamp('20130102'),\n",
      "   ....:                      'C' : pd.Series(1,index=list(range(4)),dtype='float32'),\n",
      "   ....:                      'D' : np.array([3] * 4,dtype='int32'),\n",
      "   ....:                      'E' : pd.Categorical([\"test\",\"train\",\"test\",\"train\"]),\n",
      "   ....:                      'F' : 'foo' })\n",
      "df2"
     ],
     "language": "python",
     "metadata": {},
     "outputs": [
      {
       "html": [
        "<div style=\"max-height:1000px;max-width:1500px;overflow:auto;\">\n",
        "<table border=\"1\" class=\"dataframe\">\n",
        "  <thead>\n",
        "    <tr style=\"text-align: right;\">\n",
        "      <th></th>\n",
        "      <th>A</th>\n",
        "      <th>B</th>\n",
        "      <th>C</th>\n",
        "      <th>D</th>\n",
        "      <th>E</th>\n",
        "      <th>F</th>\n",
        "    </tr>\n",
        "  </thead>\n",
        "  <tbody>\n",
        "    <tr>\n",
        "      <th>0</th>\n",
        "      <td> 1</td>\n",
        "      <td>2013-01-02</td>\n",
        "      <td> 1</td>\n",
        "      <td> 3</td>\n",
        "      <td>  test</td>\n",
        "      <td> foo</td>\n",
        "    </tr>\n",
        "    <tr>\n",
        "      <th>1</th>\n",
        "      <td> 1</td>\n",
        "      <td>2013-01-02</td>\n",
        "      <td> 1</td>\n",
        "      <td> 3</td>\n",
        "      <td> train</td>\n",
        "      <td> foo</td>\n",
        "    </tr>\n",
        "    <tr>\n",
        "      <th>2</th>\n",
        "      <td> 1</td>\n",
        "      <td>2013-01-02</td>\n",
        "      <td> 1</td>\n",
        "      <td> 3</td>\n",
        "      <td>  test</td>\n",
        "      <td> foo</td>\n",
        "    </tr>\n",
        "    <tr>\n",
        "      <th>3</th>\n",
        "      <td> 1</td>\n",
        "      <td>2013-01-02</td>\n",
        "      <td> 1</td>\n",
        "      <td> 3</td>\n",
        "      <td> train</td>\n",
        "      <td> foo</td>\n",
        "    </tr>\n",
        "  </tbody>\n",
        "</table>\n",
        "</div>"
       ],
       "metadata": {},
       "output_type": "pyout",
       "prompt_number": 15,
       "text": [
        "   A          B  C  D      E    F\n",
        "0  1 2013-01-02  1  3   test  foo\n",
        "1  1 2013-01-02  1  3  train  foo\n",
        "2  1 2013-01-02  1  3   test  foo\n",
        "3  1 2013-01-02  1  3  train  foo"
       ]
      }
     ],
     "prompt_number": 15
    },
    {
     "cell_type": "code",
     "collapsed": false,
     "input": [
      "\"\"\" \n",
      "At any time, we can check some basic information about our data frame. \n",
      "df2.dtypes will tell you the variable type for each series. \n",
      "df2.index will tell you about the rows. \n",
      "\"\"\""
     ],
     "language": "python",
     "metadata": {},
     "outputs": []
    },
    {
     "cell_type": "code",
     "collapsed": false,
     "input": [
      "df2.dtypes"
     ],
     "language": "python",
     "metadata": {},
     "outputs": [
      {
       "metadata": {},
       "output_type": "pyout",
       "prompt_number": 17,
       "text": [
        "A           float64\n",
        "B    datetime64[ns]\n",
        "C           float32\n",
        "D             int32\n",
        "E            object\n",
        "F            object\n",
        "dtype: object"
       ]
      }
     ],
     "prompt_number": 17
    },
    {
     "cell_type": "code",
     "collapsed": false,
     "input": [
      "df2.index"
     ],
     "language": "python",
     "metadata": {},
     "outputs": [
      {
       "metadata": {},
       "output_type": "pyout",
       "prompt_number": 18,
       "text": [
        "Int64Index([0, 1, 2, 3], dtype='int64')"
       ]
      }
     ],
     "prompt_number": 18
    },
    {
     "cell_type": "code",
     "collapsed": false,
     "input": [
      "\"\"\"\n",
      "We can also iterate over columns and rows. And we can access\n",
      "other information as well. See below for how to refer to a given\n",
      "column (database[column name]).\n",
      "\"\"\"\n",
      "for column_name in df2.columns:\n",
      "    print ((column_name, df2[column_name].dtype))"
     ],
     "language": "python",
     "metadata": {},
     "outputs": [
      {
       "output_type": "stream",
       "stream": "stdout",
       "text": [
        "('A', dtype('float64'))\n",
        "('B', dtype('<M8[ns]'))\n",
        "('C', dtype('float32'))\n",
        "('D', dtype('int32'))\n",
        "('E', dtype('O'))\n",
        "('F', dtype('O'))\n"
       ]
      }
     ],
     "prompt_number": 22
    },
    {
     "cell_type": "code",
     "collapsed": false,
     "input": [
      "\"\"\"\n",
      "Any column name that is is valid will show up as a field. Therefore,\n",
      "you can refer to a column using df2.A (for example). However, if your \n",
      "column name is the same as one of the existing pandas dataframe properties, \n",
      "you might not get the correct data but instead that dataframe property.\n",
      "\n",
      "Therefore, it is best to use the following syntax: df2[A].\n",
      "\n",
      "To access all the dataframe properties, type \"df2.\" and click tab. This\n",
      "brings up a menu of all the columns as well as all other properties.\n",
      "\"\"\"\n",
      "df2.max()"
     ],
     "language": "python",
     "metadata": {},
     "outputs": [
      {
       "metadata": {},
       "output_type": "pyout",
       "prompt_number": 23,
       "text": [
        "A                      1\n",
        "B    2013-01-02 00:00:00\n",
        "C                      1\n",
        "D                      3\n",
        "E                  train\n",
        "F                    foo\n",
        "dtype: object"
       ]
      }
     ],
     "prompt_number": 23
    },
    {
     "cell_type": "code",
     "collapsed": false,
     "input": [
      "\"\"\"\n",
      "This gives us values by column. If we want to flip the direction of our \n",
      "analysis (thereby by row), we can use the axis = argument. \n",
      "axis = 0 :: columns\n",
      "axis = 1 :: rows\n",
      "\"\"\"\n",
      "df2.max(axis = 0)"
     ],
     "language": "python",
     "metadata": {},
     "outputs": [
      {
       "metadata": {},
       "output_type": "pyout",
       "prompt_number": 24,
       "text": [
        "A                      1\n",
        "B    2013-01-02 00:00:00\n",
        "C                      1\n",
        "D                      3\n",
        "E                  train\n",
        "F                    foo\n",
        "dtype: object"
       ]
      }
     ],
     "prompt_number": 24
    },
    {
     "cell_type": "code",
     "collapsed": false,
     "input": [
      "df2.max(axis = 1)"
     ],
     "language": "python",
     "metadata": {},
     "outputs": [
      {
       "metadata": {},
       "output_type": "pyout",
       "prompt_number": 25,
       "text": [
        "0    3\n",
        "1    3\n",
        "2    3\n",
        "3    3\n",
        "dtype: float64"
       ]
      }
     ],
     "prompt_number": 25
    },
    {
     "cell_type": "code",
     "collapsed": false,
     "input": [
      "df2.mean(axis = 0)\n",
      "\"\"\"\n",
      "only gives you mean values for numerical values\n",
      "\"\"\"\n"
     ],
     "language": "python",
     "metadata": {},
     "outputs": [
      {
       "metadata": {},
       "output_type": "pyout",
       "prompt_number": 26,
       "text": [
        "A    1\n",
        "C    1\n",
        "D    3\n",
        "dtype: float64"
       ]
      }
     ],
     "prompt_number": 26
    },
    {
     "cell_type": "code",
     "collapsed": false,
     "input": [
      "\"\"\"\n",
      "There are many different tools for exploratory analysis. To see the full battery\n",
      "of options, google \"Pandas Aggregates\"\n",
      "\"\"\"\n",
      "df2.mean(axis = 1)"
     ],
     "language": "python",
     "metadata": {},
     "outputs": [
      {
       "metadata": {},
       "output_type": "pyout",
       "prompt_number": 27,
       "text": [
        "0    1.666667\n",
        "1    1.666667\n",
        "2    1.666667\n",
        "3    1.666667\n",
        "dtype: float64"
       ]
      }
     ],
     "prompt_number": 27
    },
    {
     "cell_type": "code",
     "collapsed": false,
     "input": [
      "\"\"\"\n",
      "Viewing Data:\n",
      "\n",
      "head and tail arguments give you the first and last rows in a dataframe. \n",
      "These come in handy for looking at your data when you don't want to print\n",
      "out thousands of rows. You can also use the tail method to see the last\n",
      "timestep (how long your model ran) and the head method to see your \n",
      "initial model parameters.\n",
      "\"\"\"\n",
      "df2.head(1)\n"
     ],
     "language": "python",
     "metadata": {},
     "outputs": [
      {
       "html": [
        "<div style=\"max-height:1000px;max-width:1500px;overflow:auto;\">\n",
        "<table border=\"1\" class=\"dataframe\">\n",
        "  <thead>\n",
        "    <tr style=\"text-align: right;\">\n",
        "      <th></th>\n",
        "      <th>A</th>\n",
        "      <th>B</th>\n",
        "      <th>C</th>\n",
        "      <th>D</th>\n",
        "      <th>E</th>\n",
        "      <th>F</th>\n",
        "    </tr>\n",
        "  </thead>\n",
        "  <tbody>\n",
        "    <tr>\n",
        "      <th>0</th>\n",
        "      <td> 1</td>\n",
        "      <td>2013-01-02</td>\n",
        "      <td> 1</td>\n",
        "      <td> 3</td>\n",
        "      <td> test</td>\n",
        "      <td> foo</td>\n",
        "    </tr>\n",
        "  </tbody>\n",
        "</table>\n",
        "</div>"
       ],
       "metadata": {},
       "output_type": "pyout",
       "prompt_number": 28,
       "text": [
        "   A          B  C  D     E    F\n",
        "0  1 2013-01-02  1  3  test  foo"
       ]
      }
     ],
     "prompt_number": 28
    },
    {
     "cell_type": "code",
     "collapsed": false,
     "input": [
      "df2.head(2)"
     ],
     "language": "python",
     "metadata": {},
     "outputs": [
      {
       "html": [
        "<div style=\"max-height:1000px;max-width:1500px;overflow:auto;\">\n",
        "<table border=\"1\" class=\"dataframe\">\n",
        "  <thead>\n",
        "    <tr style=\"text-align: right;\">\n",
        "      <th></th>\n",
        "      <th>A</th>\n",
        "      <th>B</th>\n",
        "      <th>C</th>\n",
        "      <th>D</th>\n",
        "      <th>E</th>\n",
        "      <th>F</th>\n",
        "    </tr>\n",
        "  </thead>\n",
        "  <tbody>\n",
        "    <tr>\n",
        "      <th>0</th>\n",
        "      <td> 1</td>\n",
        "      <td>2013-01-02</td>\n",
        "      <td> 1</td>\n",
        "      <td> 3</td>\n",
        "      <td>  test</td>\n",
        "      <td> foo</td>\n",
        "    </tr>\n",
        "    <tr>\n",
        "      <th>1</th>\n",
        "      <td> 1</td>\n",
        "      <td>2013-01-02</td>\n",
        "      <td> 1</td>\n",
        "      <td> 3</td>\n",
        "      <td> train</td>\n",
        "      <td> foo</td>\n",
        "    </tr>\n",
        "  </tbody>\n",
        "</table>\n",
        "</div>"
       ],
       "metadata": {},
       "output_type": "pyout",
       "prompt_number": 29,
       "text": [
        "   A          B  C  D      E    F\n",
        "0  1 2013-01-02  1  3   test  foo\n",
        "1  1 2013-01-02  1  3  train  foo"
       ]
      }
     ],
     "prompt_number": 29
    },
    {
     "cell_type": "code",
     "collapsed": false,
     "input": [
      "df2.tail(3)"
     ],
     "language": "python",
     "metadata": {},
     "outputs": [
      {
       "html": [
        "<div style=\"max-height:1000px;max-width:1500px;overflow:auto;\">\n",
        "<table border=\"1\" class=\"dataframe\">\n",
        "  <thead>\n",
        "    <tr style=\"text-align: right;\">\n",
        "      <th></th>\n",
        "      <th>A</th>\n",
        "      <th>B</th>\n",
        "      <th>C</th>\n",
        "      <th>D</th>\n",
        "      <th>E</th>\n",
        "      <th>F</th>\n",
        "    </tr>\n",
        "  </thead>\n",
        "  <tbody>\n",
        "    <tr>\n",
        "      <th>1</th>\n",
        "      <td> 1</td>\n",
        "      <td>2013-01-02</td>\n",
        "      <td> 1</td>\n",
        "      <td> 3</td>\n",
        "      <td> train</td>\n",
        "      <td> foo</td>\n",
        "    </tr>\n",
        "    <tr>\n",
        "      <th>2</th>\n",
        "      <td> 1</td>\n",
        "      <td>2013-01-02</td>\n",
        "      <td> 1</td>\n",
        "      <td> 3</td>\n",
        "      <td>  test</td>\n",
        "      <td> foo</td>\n",
        "    </tr>\n",
        "    <tr>\n",
        "      <th>3</th>\n",
        "      <td> 1</td>\n",
        "      <td>2013-01-02</td>\n",
        "      <td> 1</td>\n",
        "      <td> 3</td>\n",
        "      <td> train</td>\n",
        "      <td> foo</td>\n",
        "    </tr>\n",
        "  </tbody>\n",
        "</table>\n",
        "</div>"
       ],
       "metadata": {},
       "output_type": "pyout",
       "prompt_number": 30,
       "text": [
        "   A          B  C  D      E    F\n",
        "1  1 2013-01-02  1  3  train  foo\n",
        "2  1 2013-01-02  1  3   test  foo\n",
        "3  1 2013-01-02  1  3  train  foo"
       ]
      }
     ],
     "prompt_number": 30
    },
    {
     "cell_type": "code",
     "collapsed": false,
     "input": [
      "\"\"\"\n",
      "To look at a given row, we can use the .loc method:\n",
      "\"\"\"\n",
      "df2.loc[1,:]"
     ],
     "language": "python",
     "metadata": {},
     "outputs": [
      {
       "metadata": {},
       "output_type": "pyout",
       "prompt_number": 31,
       "text": [
        "A                      1\n",
        "B    2013-01-02 00:00:00\n",
        "C                      1\n",
        "D                      3\n",
        "E                  train\n",
        "F                    foo\n",
        "Name: 1, dtype: object"
       ]
      }
     ],
     "prompt_number": 31
    },
    {
     "cell_type": "code",
     "collapsed": false,
     "input": [
      "\"\"\"\n",
      "We can also pull out only specific rows and columns\n",
      "\"\"\"\n",
      "\n",
      "\n",
      "df2.loc[[0,1],[\"C\",\"D\"]]\n"
     ],
     "language": "python",
     "metadata": {},
     "outputs": [
      {
       "html": [
        "<div style=\"max-height:1000px;max-width:1500px;overflow:auto;\">\n",
        "<table border=\"1\" class=\"dataframe\">\n",
        "  <thead>\n",
        "    <tr style=\"text-align: right;\">\n",
        "      <th></th>\n",
        "      <th>C</th>\n",
        "      <th>D</th>\n",
        "    </tr>\n",
        "  </thead>\n",
        "  <tbody>\n",
        "    <tr>\n",
        "      <th>0</th>\n",
        "      <td> 1</td>\n",
        "      <td> 3</td>\n",
        "    </tr>\n",
        "    <tr>\n",
        "      <th>1</th>\n",
        "      <td> 1</td>\n",
        "      <td> 3</td>\n",
        "    </tr>\n",
        "  </tbody>\n",
        "</table>\n",
        "</div>"
       ],
       "metadata": {},
       "output_type": "pyout",
       "prompt_number": 32,
       "text": [
        "   C  D\n",
        "0  1  3\n",
        "1  1  3"
       ]
      }
     ],
     "prompt_number": 32
    },
    {
     "cell_type": "code",
     "collapsed": false,
     "input": [
      "\"\"\"\n",
      "We can also use boolean logic to mask our dataset. \n",
      "\"\"\"\n",
      "df2.loc[:,\"E\"] == \"test\""
     ],
     "language": "python",
     "metadata": {},
     "outputs": [
      {
       "metadata": {},
       "output_type": "pyout",
       "prompt_number": 34,
       "text": [
        "0     True\n",
        "1    False\n",
        "2     True\n",
        "3    False\n",
        "Name: E, dtype: bool"
       ]
      }
     ],
     "prompt_number": 34
    },
    {
     "cell_type": "code",
     "collapsed": false,
     "input": [
      "df2.loc[df2.loc[:, \"E\"] == \"test\",:]"
     ],
     "language": "python",
     "metadata": {},
     "outputs": [
      {
       "html": [
        "<div style=\"max-height:1000px;max-width:1500px;overflow:auto;\">\n",
        "<table border=\"1\" class=\"dataframe\">\n",
        "  <thead>\n",
        "    <tr style=\"text-align: right;\">\n",
        "      <th></th>\n",
        "      <th>A</th>\n",
        "      <th>B</th>\n",
        "      <th>C</th>\n",
        "      <th>D</th>\n",
        "      <th>E</th>\n",
        "      <th>F</th>\n",
        "    </tr>\n",
        "  </thead>\n",
        "  <tbody>\n",
        "    <tr>\n",
        "      <th>0</th>\n",
        "      <td> 1</td>\n",
        "      <td>2013-01-02</td>\n",
        "      <td> 1</td>\n",
        "      <td> 3</td>\n",
        "      <td> test</td>\n",
        "      <td> foo</td>\n",
        "    </tr>\n",
        "    <tr>\n",
        "      <th>2</th>\n",
        "      <td> 1</td>\n",
        "      <td>2013-01-02</td>\n",
        "      <td> 1</td>\n",
        "      <td> 3</td>\n",
        "      <td> test</td>\n",
        "      <td> foo</td>\n",
        "    </tr>\n",
        "  </tbody>\n",
        "</table>\n",
        "</div>"
       ],
       "metadata": {},
       "output_type": "pyout",
       "prompt_number": 36,
       "text": [
        "   A          B  C  D     E    F\n",
        "0  1 2013-01-02  1  3  test  foo\n",
        "2  1 2013-01-02  1  3  test  foo"
       ]
      }
     ],
     "prompt_number": 36
    },
    {
     "cell_type": "code",
     "collapsed": false,
     "input": [
      "df2.loc"
     ],
     "language": "python",
     "metadata": {},
     "outputs": []
    }
   ],
   "metadata": {}
  }
 ]
}