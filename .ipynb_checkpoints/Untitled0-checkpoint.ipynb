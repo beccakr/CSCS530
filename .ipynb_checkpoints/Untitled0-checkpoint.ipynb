{
 "metadata": {
  "name": "",
  "signature": "sha256:c23edcc09ab277acdeca1c43ae985e2f7122391d3bc17f0fc5862529de1b0b46"
 },
 "nbformat": 3,
 "nbformat_minor": 0,
 "worksheets": []
}